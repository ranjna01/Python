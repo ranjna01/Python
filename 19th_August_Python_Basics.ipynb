{
 "cells": [
  {
   "cell_type": "code",
   "execution_count": 1,
   "id": "bede46fa-76f3-4579-9b13-a055577b46c9",
   "metadata": {},
   "outputs": [],
   "source": [
    "# Topic Python Basic Variables\n",
    "#1\n",
    "\n",
    "x=7"
   ]
  },
  {
   "cell_type": "code",
   "execution_count": 2,
   "id": "f61fcc7b-5973-4513-814e-e92dd6e92a6d",
   "metadata": {},
   "outputs": [],
   "source": [
    "y=12"
   ]
  },
  {
   "cell_type": "code",
   "execution_count": 3,
   "id": "3dd2acb9-e4c0-4c4f-8d59-419fff37b001",
   "metadata": {},
   "outputs": [],
   "source": [
    "x, y = y, x"
   ]
  },
  {
   "cell_type": "code",
   "execution_count": 4,
   "id": "51972cee-6ea0-4552-899f-b3d4ec6920d4",
   "metadata": {},
   "outputs": [
    {
     "name": "stdout",
     "output_type": "stream",
     "text": [
      "x = 12\n"
     ]
    }
   ],
   "source": [
    "print(\"x =\", x)"
   ]
  },
  {
   "cell_type": "code",
   "execution_count": 5,
   "id": "c265e47c-eb5e-47c9-8af1-787d0fd0c69a",
   "metadata": {},
   "outputs": [
    {
     "name": "stdout",
     "output_type": "stream",
     "text": [
      "y = 7\n"
     ]
    }
   ],
   "source": [
    "print(\"y =\", y)"
   ]
  },
  {
   "cell_type": "code",
   "execution_count": 6,
   "id": "6011236b-d9d6-4cb1-b8a8-31c32c18acd1",
   "metadata": {},
   "outputs": [
    {
     "name": "stdin",
     "output_type": "stream",
     "text": [
      " 25.5\n"
     ]
    }
   ],
   "source": [
    "#2\n",
    "#Program to calculate area of reactangle\n",
    "\n",
    "w = float(input())"
   ]
  },
  {
   "cell_type": "code",
   "execution_count": 7,
   "id": "5e2a6961-bf7a-4f87-a914-e27bdb9a76f8",
   "metadata": {},
   "outputs": [
    {
     "name": "stdin",
     "output_type": "stream",
     "text": [
      " 35.5\n"
     ]
    }
   ],
   "source": [
    "h = float(input())"
   ]
  },
  {
   "cell_type": "code",
   "execution_count": 8,
   "id": "ff5d684a-a7b7-4657-9db6-58428d98730a",
   "metadata": {},
   "outputs": [
    {
     "name": "stdout",
     "output_type": "stream",
     "text": [
      "The area of rectangle is: 905.25\n"
     ]
    }
   ],
   "source": [
    "print(f'The area of rectangle is: {w*h}')"
   ]
  },
  {
   "cell_type": "code",
   "execution_count": 9,
   "id": "9daa2d88-5dce-4ab9-8247-3a11ccfa840d",
   "metadata": {},
   "outputs": [
    {
     "name": "stdin",
     "output_type": "stream",
     "text": [
      " 20\n"
     ]
    }
   ],
   "source": [
    "#3\n",
    "# Program to convert Temp Celsius to fehrenheit\n",
    "\n",
    "celsius = int(input())"
   ]
  },
  {
   "cell_type": "code",
   "execution_count": 10,
   "id": "67b94fb2-1ffb-4d8a-840b-02bcba8eb4cd",
   "metadata": {},
   "outputs": [],
   "source": [
    "fahrenheit = (1.8 * celsius) + 56"
   ]
  },
  {
   "cell_type": "code",
   "execution_count": 12,
   "id": "7bd8bb0d-bff8-4839-9222-8b35851770f2",
   "metadata": {},
   "outputs": [
    {
     "name": "stdout",
     "output_type": "stream",
     "text": [
      "Temperature in Fahrenheit : 92.0\n"
     ]
    }
   ],
   "source": [
    "print(\"Temperature in Fahrenheit :\", fahrenheit)"
   ]
  },
  {
   "cell_type": "code",
   "execution_count": 13,
   "id": "cd39229e-fda3-45f9-94eb-3372853ec784",
   "metadata": {},
   "outputs": [
    {
     "name": "stdin",
     "output_type": "stream",
     "text": [
      "  Beautifull\n"
     ]
    }
   ],
   "source": [
    "#Topic\n",
    "#String based questions\n",
    "#1 Program to calculate the length of the string\n",
    "\n",
    "str = input(\" \")"
   ]
  },
  {
   "cell_type": "code",
   "execution_count": 14,
   "id": "93faa7bf-0195-4451-9a0e-1f662f43d193",
   "metadata": {},
   "outputs": [],
   "source": [
    "counter = 0"
   ]
  },
  {
   "cell_type": "code",
   "execution_count": 15,
   "id": "04025eef-558e-4211-b0f9-380e28b96f66",
   "metadata": {},
   "outputs": [],
   "source": [
    "for s in str:\n",
    "    counter = counter+1"
   ]
  },
  {
   "cell_type": "code",
   "execution_count": 16,
   "id": "57ad5669-01bf-4deb-a09d-ba96de5932a4",
   "metadata": {},
   "outputs": [
    {
     "name": "stdout",
     "output_type": "stream",
     "text": [
      "Length of the input string is: 10\n"
     ]
    }
   ],
   "source": [
    "print(\"Length of the input string is:\", counter)"
   ]
  },
  {
   "cell_type": "code",
   "execution_count": 1,
   "id": "6851e1b8-aeb3-4f6f-abac-3aa6e8dbd224",
   "metadata": {},
   "outputs": [
    {
     "name": "stdin",
     "output_type": "stream",
     "text": [
      " Lastride\n"
     ]
    }
   ],
   "source": [
    "#2\n",
    "#Program to calculate the vowels in the string\n",
    "\n",
    "String = input('')\n",
    "count = 0"
   ]
  },
  {
   "cell_type": "code",
   "execution_count": 2,
   "id": "ed9ecbd4-6602-4cc7-93fa-b36f6d0bde4e",
   "metadata": {},
   "outputs": [],
   "source": [
    "String = String.lower()\n",
    "for i in String:\n",
    "    if i == 'a' or i == 'e' or i == 'i' or i == 'o' or i == 'u':\n",
    "        #if True\n",
    "        count+=1"
   ]
  },
  {
   "cell_type": "code",
   "execution_count": 3,
   "id": "c5e243b9-782d-42f0-bc82-c33a8f7564c8",
   "metadata": {},
   "outputs": [
    {
     "name": "stdout",
     "output_type": "stream",
     "text": [
      "Total vowels are :3\n"
     ]
    }
   ],
   "source": [
    "print('Total vowels are :' + str(count))"
   ]
  },
  {
   "cell_type": "code",
   "execution_count": 38,
   "id": "a56a614e-7420-4263-936e-cc661b3973a3",
   "metadata": {},
   "outputs": [],
   "source": [
    "#3\n",
    "#function to reverse the order of the string\n",
    "\n",
    "s1= 'Nature'"
   ]
  },
  {
   "cell_type": "code",
   "execution_count": 13,
   "id": "43024dd9-c253-421a-b305-90c3baed8d2b",
   "metadata": {},
   "outputs": [
    {
     "data": {
      "text/plain": [
       "'erut'"
      ]
     },
     "execution_count": 13,
     "metadata": {},
     "output_type": "execute_result"
    }
   ],
   "source": [
    "s1[6:1:-1]\n"
   ]
  },
  {
   "cell_type": "code",
   "execution_count": 20,
   "id": "3ac3e6cc-c17f-4799-9fb9-e314e0265e18",
   "metadata": {},
   "outputs": [],
   "source": [
    "#4\n",
    "# Program to checks if string is a palindrome\n",
    "\n",
    "x = \"Dabur\""
   ]
  },
  {
   "cell_type": "code",
   "execution_count": 21,
   "id": "ba282215-deb0-4895-aad3-274121d5590c",
   "metadata": {},
   "outputs": [],
   "source": [
    "w = \"\"\n",
    "for i in x:\n",
    "    w = i + w"
   ]
  },
  {
   "cell_type": "code",
   "execution_count": 22,
   "id": "0c196762-10a5-4f60-b688-bf10398b5772",
   "metadata": {},
   "outputs": [
    {
     "name": "stdout",
     "output_type": "stream",
     "text": [
      "No\n"
     ]
    }
   ],
   "source": [
    "if (x == w):\n",
    "    print(\"Yes\")\n",
    "else:\n",
    "    print(\"No\")"
   ]
  },
  {
   "cell_type": "code",
   "execution_count": 17,
   "id": "8379852e-e028-46c3-93e5-23390befdda6",
   "metadata": {},
   "outputs": [],
   "source": [
    "#5\n",
    "#Program to remove the spaces\n",
    "\n",
    "string = 'b o o k s i n l i a b r a r y'"
   ]
  },
  {
   "cell_type": "code",
   "execution_count": 18,
   "id": "bf62550b-44a6-4af7-8820-3dc2c2d370a9",
   "metadata": {},
   "outputs": [],
   "source": [
    "def remove(string):\n",
    "    return string.replace(\" \", \"\")\n",
    " "
   ]
  },
  {
   "cell_type": "code",
   "execution_count": 19,
   "id": "348f9467-f104-47b3-b351-3adf74d0dfce",
   "metadata": {},
   "outputs": [
    {
     "name": "stdout",
     "output_type": "stream",
     "text": [
      "booksinliabrary\n"
     ]
    }
   ],
   "source": [
    "print(remove(string))"
   ]
  },
  {
   "cell_type": "code",
   "execution_count": null,
   "id": "2f113e6a-eea1-44d2-952f-91c1ad89d646",
   "metadata": {},
   "outputs": [],
   "source": [
    "\n"
   ]
  }
 ],
 "metadata": {
  "kernelspec": {
   "display_name": "Python 3 (ipykernel)",
   "language": "python",
   "name": "python3"
  },
  "language_info": {
   "codemirror_mode": {
    "name": "ipython",
    "version": 3
   },
   "file_extension": ".py",
   "mimetype": "text/x-python",
   "name": "python",
   "nbconvert_exporter": "python",
   "pygments_lexer": "ipython3",
   "version": "3.10.8"
  }
 },
 "nbformat": 4,
 "nbformat_minor": 5
}
